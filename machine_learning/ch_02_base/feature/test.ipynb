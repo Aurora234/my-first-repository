{
 "cells": [
  {
   "cell_type": "code",
   "execution_count": 2,
   "metadata": {
    "collapsed": false,
    "jupyter": {
     "outputs_hidden": false
    },
    "pycharm": {
     "name": "#%%\n"
    }
   },
   "outputs": [],
   "source": [
    "import numpy as np"
   ]
  },
  {
   "cell_type": "code",
   "execution_count": 3,
   "metadata": {
    "collapsed": false,
    "jupyter": {
     "outputs_hidden": false
    },
    "pycharm": {
     "name": "#%%\n"
    }
   },
   "outputs": [
    {
     "name": "stdout",
     "output_type": "stream",
     "text": [
      "[1. 2. 3. 4. 5.]\n"
     ]
    }
   ],
   "source": [
    "arr = np.array([1,4,9,16,25])\n",
    "print(np.sqrt(arr))"
   ]
  },
  {
   "cell_type": "code",
   "execution_count": 4,
   "metadata": {},
   "outputs": [
    {
     "name": "stdout",
     "output_type": "stream",
     "text": [
      "[2.71828183e+00 5.45981500e+01 8.10308393e+03 8.88611052e+06\n",
      " 7.20048993e+10]\n"
     ]
    }
   ],
   "source": [
    "print(np.exp(arr))"
   ]
  },
  {
   "cell_type": "code",
   "execution_count": 5,
   "metadata": {},
   "outputs": [
    {
     "name": "stdout",
     "output_type": "stream",
     "text": [
      "7.38905609893065\n"
     ]
    }
   ],
   "source": [
    "print(np.exp(2))"
   ]
  },
  {
   "cell_type": "code",
   "execution_count": 6,
   "metadata": {},
   "outputs": [
    {
     "name": "stdout",
     "output_type": "stream",
     "text": [
      "[0.         1.38629436 2.19722458 2.77258872 3.21887582]\n"
     ]
    }
   ],
   "source": [
    "print(np.log(arr))"
   ]
  },
  {
   "cell_type": "code",
   "execution_count": 7,
   "metadata": {},
   "outputs": [],
   "source": [
    "arr = np.array([[1, 2, 3], [4, 5, 6]])"
   ]
  },
  {
   "cell_type": "code",
   "execution_count": 8,
   "metadata": {},
   "outputs": [
    {
     "name": "stdout",
     "output_type": "stream",
     "text": [
      "21\n"
     ]
    }
   ],
   "source": [
    "print(np.sum(arr))"
   ]
  },
  {
   "cell_type": "code",
   "execution_count": 9,
   "metadata": {},
   "outputs": [
    {
     "name": "stdout",
     "output_type": "stream",
     "text": [
      "每列总和 [5 7 9]\n"
     ]
    }
   ],
   "source": [
    "print(\"每列总和\",np.sum(arr,axis=0))"
   ]
  },
  {
   "cell_type": "code",
   "execution_count": 10,
   "metadata": {},
   "outputs": [
    {
     "name": "stdout",
     "output_type": "stream",
     "text": [
      "每列总和 [ 6 15]\n"
     ]
    }
   ],
   "source": [
    "print(\"每列总和\",np.sum(arr,axis=1))"
   ]
  },
  {
   "cell_type": "code",
   "execution_count": 11,
   "metadata": {},
   "outputs": [
    {
     "name": "stdout",
     "output_type": "stream",
     "text": [
      "1.707825127659933\n"
     ]
    }
   ],
   "source": [
    "print(np.std(arr))"
   ]
  },
  {
   "cell_type": "code",
   "execution_count": 12,
   "metadata": {},
   "outputs": [
    {
     "name": "stdout",
     "output_type": "stream",
     "text": [
      "2.9166666666666665\n"
     ]
    }
   ],
   "source": [
    "print(np.var(arr))"
   ]
  },
  {
   "cell_type": "code",
   "execution_count": 13,
   "metadata": {},
   "outputs": [
    {
     "name": "stdout",
     "output_type": "stream",
     "text": [
      "a + b:\n",
      " [[11 21 31]\n",
      " [12 22 32]\n",
      " [13 23 33]]\n"
     ]
    }
   ],
   "source": [
    "a = np.array([[1], [2], [3]])  # 形状 (3, 1)\n",
    "b = np.array([10, 20, 30])     # 形状 (3,)\n",
    "\n",
    "print(\"a + b:\\n\", a + b)"
   ]
  },
  {
   "cell_type": "code",
   "execution_count": 14,
   "metadata": {},
   "outputs": [
    {
     "name": "stdout",
     "output_type": "stream",
     "text": [
      "原始数据: [ 89.99018789  92.79850532 106.40349465  89.11985861 120.20194941\n",
      " 111.98068904  68.67890453  77.69352788  88.54231709 111.43202271\n",
      " 115.92016256 111.81625833 139.89924764  85.8411348  103.05289521\n",
      "  73.18400992  99.76546628 114.08900427  88.22078625  77.58740264]\n"
     ]
    }
   ],
   "source": [
    "data = np.random.normal(100, 15, 20)  # 均值100，标准差15\n",
    "print(\"原始数据:\", data)"
   ]
  },
  {
   "cell_type": "code",
   "execution_count": 15,
   "metadata": {},
   "outputs": [
    {
     "name": "stdout",
     "output_type": "stream",
     "text": [
      "原矩阵 A:\n",
      " [[4 7]\n",
      " [2 6]]\n"
     ]
    }
   ],
   "source": [
    "A = np.array([[4, 7], [2, 6]])\n",
    "print(\"原矩阵 A:\\n\", A)"
   ]
  },
  {
   "cell_type": "code",
   "execution_count": 18,
   "metadata": {},
   "outputs": [
    {
     "name": "stdout",
     "output_type": "stream",
     "text": [
      "逆矩阵 A⁻¹:\n",
      " [[ 0.6 -0.7]\n",
      " [-0.2  0.4]]\n",
      "A × A⁻¹ (应该接近单位矩阵):\n",
      " [[ 1.  0.]\n",
      " [-0.  1.]]\n"
     ]
    }
   ],
   "source": [
    "# 求逆矩阵\n",
    "A_inv = np.linalg.inv(A)\n",
    "print(\"逆矩阵 A⁻¹:\\n\", A_inv)\n",
    "\n",
    "# 验证 A × A⁻¹ = 单位矩阵\n",
    "identity = A @ A_inv\n",
    "print(\"A × A⁻¹ (应该接近单位矩阵):\\n\", np.round(identity))"
   ]
  },
  {
   "cell_type": "code",
   "execution_count": 19,
   "metadata": {},
   "outputs": [
    {
     "name": "stdout",
     "output_type": "stream",
     "text": [
      "矩阵 A:\n",
      " [[1 2]\n",
      " [3 4]]\n",
      "行列式 det(A): -2.0000000000000004\n"
     ]
    }
   ],
   "source": [
    "A = np.array([[1, 2], [3, 4]])\n",
    "det_A = np.linalg.det(A)\n",
    "print(\"矩阵 A:\\n\", A)\n",
    "print(\"行列式 det(A):\", det_A)"
   ]
  },
  {
   "cell_type": "code",
   "execution_count": null,
   "outputs": [],
   "source": [
    "data = np.array([1, 2, 3, 4, 5, 6, 7, 8, 9, 10])\n",
    "\n",
    "# 随机选择一个元素\n",
    "choice = np.random.choice(data)\n",
    "print(\"随机选择:\", choice)\n",
    "\n",
    "# 随机选择多个元素 (无放回)\n",
    "choices_no_replace = np.random.choice(data, size=3, replace=False)\n",
    "print(\"无放回抽样:\", choices_no_replace)"
   ],
   "metadata": {
    "collapsed": false,
    "pycharm": {
     "name": "#%%\n"
    }
   }
  },
  {
   "cell_type": "code",
   "execution_count": null,
   "outputs": [],
   "source": [],
   "metadata": {
    "collapsed": false,
    "pycharm": {
     "name": "#%%\n"
    }
   }
  },
  {
   "cell_type": "code",
   "execution_count": null,
   "metadata": {},
   "outputs": [],
   "source": []
  }
 ],
 "metadata": {
  "kernelspec": {
   "display_name": "Python 3 (ipykernel)",
   "language": "python",
   "name": "python3"
  },
  "language_info": {
   "codemirror_mode": {
    "name": "ipython",
    "version": 3
   },
   "file_extension": ".py",
   "mimetype": "text/x-python",
   "name": "python",
   "nbconvert_exporter": "python",
   "pygments_lexer": "ipython3",
   "version": "3.9.19"
  }
 },
 "nbformat": 4,
 "nbformat_minor": 4
}