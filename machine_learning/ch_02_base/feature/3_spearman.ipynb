{
 "cells": [
  {
   "cell_type": "code",
   "id": "initial_id",
   "metadata": {
    "collapsed": true,
    "ExecuteTime": {
     "end_time": "2025-10-03T07:03:35.203858Z",
     "start_time": "2025-10-03T07:03:35.197029Z"
    }
   },
   "source": [
    "import pandas as pd\n",
    "\n",
    "# 每周学习时长\n",
    "x = [[5], [8], [10], [12], [15], [3], [7], [9], [14], [6]]\n",
    "# 数学考试成绩\n",
    "y = [55, 65, 70, 75, 85, 50, 60, 72, 80, 58]\n"
   ],
   "outputs": [],
   "execution_count": 3
  },
  {
   "metadata": {
    "ExecuteTime": {
     "end_time": "2025-10-03T07:05:29.421317Z",
     "start_time": "2025-10-03T07:05:29.412761Z"
    }
   },
   "cell_type": "code",
   "source": [
    "# 计算斯皮尔慢相关系数\n",
    "X = pd.DataFrame(x,columns=[\"成绩\"])\n",
    "Y = pd.Series(y)\n",
    "spearman_matrix = X.corrwith(Y,method=\"spearman\")\n",
    "print(spearman_matrix)"
   ],
   "id": "a4a664b9b861fad5",
   "outputs": [
    {
     "name": "stdout",
     "output_type": "stream",
     "text": [
      "成绩    0.987879\n",
      "dtype: float64\n"
     ]
    }
   ],
   "execution_count": 5
  },
  {
   "metadata": {},
   "cell_type": "code",
   "outputs": [],
   "execution_count": null,
   "source": "",
   "id": "132809a39e858a47"
  }
 ],
 "metadata": {
  "kernelspec": {
   "display_name": "Python 3",
   "language": "python",
   "name": "python3"
  },
  "language_info": {
   "codemirror_mode": {
    "name": "ipython",
    "version": 2
   },
   "file_extension": ".py",
   "mimetype": "text/x-python",
   "name": "python",
   "nbconvert_exporter": "python",
   "pygments_lexer": "ipython2",
   "version": "2.7.6"
  }
 },
 "nbformat": 4,
 "nbformat_minor": 5
}
